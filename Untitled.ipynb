{
 "cells": [
  {
   "cell_type": "code",
   "execution_count": 24,
   "metadata": {},
   "outputs": [
    {
     "data": {
      "text/plain": [
       "'jQuery112406402275412531875_1585743115365(\\'{\"data\":[{\"date\":\"2020-01-16\",\"title\":\"2020年省级预算及说明\",\"url\":\"https://www.henan.gov.cn/2020/01-16/1252872.html\"}],\"totalPage\":1}\\')'"
      ]
     },
     "execution_count": 24,
     "metadata": {},
     "output_type": "execute_result"
    }
   ],
   "source": [
    "import requests\n",
    "headers = {\"Content-Type\":'text/javascript;charset=utf-8'}\n",
    "url = 'https://jyxc.henan.gov.cn/open/newslist?callBack=jQuery112406402275412531875_1585743115365&webId=450001&cid=3508&start=1&pageSize=15&year=2020'\n",
    "response = requests.get(url)\n",
    "response.text"
   ]
  },
  {
   "cell_type": "code",
   "execution_count": 25,
   "metadata": {},
   "outputs": [
    {
     "name": "stdout",
     "output_type": "stream",
     "text": [
      "{'data': [{'date': '2020-01-16', 'url': 'https://www.henan.gov.cn/2020/01-16/1252872.html', 'title': '2020年省级预算及说明'}], 'totalPage': 1}\n",
      "https://www.henan.gov.cn/2020/01-16/1252872.html\n"
     ]
    }
   ],
   "source": [
    "import json\n",
    "json_start = response.text.find('{')\n",
    "json_end = response.text.rfind('}')\n",
    "standard_data = json.loads(response.text[json_start:json_end+1])\n",
    "\n",
    "print(standard_data)\n",
    "print(standard_data['data'][0]['url'])"
   ]
  },
  {
   "cell_type": "code",
   "execution_count": 28,
   "metadata": {},
   "outputs": [
    {
     "data": {
      "text/plain": [
       "<div class=\"content\" id=\"content\">\n",
       "<p>　　<a href=\"https://file.henan.gov.cn/4500000001/2020-03-11/158389434472656j8kXve.pdf\">关于河南省2019年预算执行情况和2020年预算草案的报告.pdf</a></p><p>　　<a href=\"https://file.henan.gov.cn/4500000001/2020-03-11/1583894745743SBzYloui.pdf\">2020年省级预算说明.pdf</a></p><p>　　<a href=\"https://file.henan.gov.cn/4500000001/2020-03-11/1583894751577VHCyw78h.pdf\">2020年预算.pdf</a></p><p>　　<a href=\"https://file.henan.gov.cn/4500000001/2020-03-11/1583894765963Hg03S04O.pdf\">2020年省级财政重点绩效评价项目绩效目标表.pdf</a></p>\n",
       "<span class=\"operator\">责任编辑：<i id=\"issueName\">李瑞</i></span>\n",
       "</div>"
      ]
     },
     "execution_count": 28,
     "metadata": {},
     "output_type": "execute_result"
    }
   ],
   "source": [
    "from bs4 import BeautifulSoup\n",
    "son_url = standard_data['data'][0]['url']\n",
    "res = requests.get(son_url,headers=headers)\n",
    "res=res.content.decode(\"utf-8\",\"ignore\")\n",
    "soup = BeautifulSoup(res,'lxml')\n",
    "soup.find(\"div\", class_=\"content\")"
   ]
  },
  {
   "cell_type": "code",
   "execution_count": 81,
   "metadata": {
    "scrolled": true
   },
   "outputs": [
    {
     "name": "stdout",
     "output_type": "stream",
     "text": [
      "['关于河南省2019年预算执行情况和2020年预算草案的报告.pdf', 'https://file.henan.gov.cn/4500000001/2020-03-11/158389434472656j8kXve.pdf', '2019']\n",
      "['2020年省级预算说明.pdf', 'https://file.henan.gov.cn/4500000001/2020-03-11/1583894745743SBzYloui.pdf', '2020']\n",
      "['2020年预算.pdf', 'https://file.henan.gov.cn/4500000001/2020-03-11/1583894751577VHCyw78h.pdf', '2020']\n",
      "['2020年省级财政重点绩效评价项目绩效目标表.pdf', 'https://file.henan.gov.cn/4500000001/2020-03-11/1583894765963Hg03S04O.pdf', '2020']\n"
     ]
    }
   ],
   "source": [
    "import re\n",
    "table = []\n",
    "def getDate(s):\n",
    "    t = re.findall(\"\\d{4}\",s)\n",
    "    if t:\n",
    "        return t[0]\n",
    "    \n",
    "for p in soup.find(\"div\", class_=\"content\"):\n",
    "    if p.find('a')!=-1 and p.find('a') is not None:\n",
    "        row = []\n",
    "        row.append(p.find('a').text)\n",
    "        row.append(p.find('a').get('href'))\n",
    "        row.append(getDate(p.find('a').text))\n",
    "        table.append(row)\n",
    "        print(row)\n"
   ]
  },
  {
   "cell_type": "markdown",
   "metadata": {},
   "source": [
    "## 存入数据库"
   ]
  },
  {
   "cell_type": "code",
   "execution_count": 97,
   "metadata": {},
   "outputs": [
    {
     "name": "stdout",
     "output_type": "stream",
     "text": [
      "INSERT INTO file VALUES (NULL,'关于河南省2019年预算执行情况和2020年预算草案的报告.pdf','https://file.henan.gov.cn/4500000001/2020-03-11/158389434472656j8kXve.pdf','2019');\n",
      "INSERT INTO file VALUES (NULL,'2020年省级预算说明.pdf','https://file.henan.gov.cn/4500000001/2020-03-11/1583894745743SBzYloui.pdf','2020');\n",
      "INSERT INTO file VALUES (NULL,'2020年预算.pdf','https://file.henan.gov.cn/4500000001/2020-03-11/1583894751577VHCyw78h.pdf','2020');\n",
      "INSERT INTO file VALUES (NULL,'2020年省级财政重点绩效评价项目绩效目标表.pdf','https://file.henan.gov.cn/4500000001/2020-03-11/1583894765963Hg03S04O.pdf','2020');\n"
     ]
    }
   ],
   "source": [
    "import pymysql\n",
    "db_name = 'financial_data'\n",
    "table_name='file'\n",
    "user = 'root'\n",
    "password = ''\n",
    "\n",
    "conn = pymysql.connect(host=\"localhost\", user=user,password=password)\n",
    "cursor = conn.cursor()\n",
    "# 选择连接database\n",
    "conn.select_db(db_name)\n",
    "clear_sql='truncate table file;'\n",
    "cursor.execute(clear_sql)\n",
    "conn.commit()\n",
    "for row in table:\n",
    "    s = 'NULL,\\''+'\\',\\''.join(row)+'\\''\n",
    "    insert_sql = 'INSERT INTO {} VALUES ({})'.format(table_name,s)+';'\n",
    "    print(insert_sql)\n",
    "    try:\n",
    "        #执行sql\n",
    "        cursor.execute(insert_sql)\n",
    "        conn.commit()\n",
    "    except:\n",
    "        #发生异常\n",
    "        print('rollback')\n",
    "        conn.rollback()\n",
    "conn.close()"
   ]
  },
  {
   "cell_type": "code",
   "execution_count": 67,
   "metadata": {},
   "outputs": [
    {
     "data": {
      "text/plain": [
       "'%s,%s,%s,%s,%s'"
      ]
     },
     "execution_count": 67,
     "metadata": {},
     "output_type": "execute_result"
    }
   ],
   "source": []
  },
  {
   "cell_type": "code",
   "execution_count": null,
   "metadata": {},
   "outputs": [],
   "source": []
  }
 ],
 "metadata": {
  "anaconda-cloud": {},
  "kernelspec": {
   "display_name": "Python 3.5.2 64-bit ('root': conda)",
   "language": "python",
   "name": "python35264bitrootconda673de484f55f4c00946632c29fcbe91a"
  },
  "language_info": {
   "codemirror_mode": {
    "name": "ipython",
    "version": 3
   },
   "file_extension": ".py",
   "mimetype": "text/x-python",
   "name": "python",
   "nbconvert_exporter": "python",
   "pygments_lexer": "ipython3",
   "version": "3.5.2"
  }
 },
 "nbformat": 4,
 "nbformat_minor": 2
}
